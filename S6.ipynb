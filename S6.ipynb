{
  "nbformat": 4,
  "nbformat_minor": 0,
  "metadata": {
    "colab": {
      "provenance": [],
      "gpuType": "T4"
    },
    "kernelspec": {
      "name": "python3",
      "display_name": "Python 3"
    },
    "language_info": {
      "name": "python"
    },
    "accelerator": "GPU"
  },
  "cells": [
    {
      "cell_type": "code",
      "execution_count": 3,
      "metadata": {
        "id": "bTQE8Ib3TAGI"
      },
      "outputs": [],
      "source": [
        "from __future__ import print_function\n",
        "import torch\n",
        "import torch.optim as optim\n",
        "from torchvision import datasets, transforms\n",
        "\n",
        "from model import Net\n",
        "from utils import train, test\n"
      ]
    },
    {
      "cell_type": "code",
      "source": [
        "\n",
        "# Check if CUDA is available and set PyTorch to use GPU or CPU accordingly\n",
        "use_cuda = torch.cuda.is_available()\n",
        "device = torch.device(\"cuda\" if use_cuda else \"cpu\")\n",
        "\n",
        "# Initialize the model and send it to GPU if available\n",
        "model = Net().to(device)\n",
        "\n",
        "# Print the model summary\n",
        "from torchsummary import summary\n",
        "summary(model, input_size=(1, 28, 28))\n",
        "\n",
        "torch.manual_seed(1)\n",
        "batch_size = 512\n"
      ],
      "metadata": {
        "colab": {
          "base_uri": "https://localhost:8080/"
        },
        "id": "8z3yAPHGTL5O",
        "outputId": "180bd453-b4d4-4a47-9dd9-8c004472541f"
      },
      "execution_count": 4,
      "outputs": [
        {
          "output_type": "stream",
          "name": "stdout",
          "text": [
            "----------------------------------------------------------------\n",
            "        Layer (type)               Output Shape         Param #\n",
            "================================================================\n",
            "            Conv2d-1           [-1, 10, 26, 26]             100\n",
            "       BatchNorm2d-2           [-1, 10, 26, 26]              20\n",
            "           Dropout-3           [-1, 10, 26, 26]               0\n",
            "            Conv2d-4           [-1, 16, 24, 24]           1,456\n",
            "       BatchNorm2d-5           [-1, 16, 24, 24]              32\n",
            "           Dropout-6           [-1, 16, 24, 24]               0\n",
            "            Conv2d-7           [-1, 32, 22, 22]           4,640\n",
            "       BatchNorm2d-8           [-1, 32, 22, 22]              64\n",
            "           Dropout-9           [-1, 32, 22, 22]               0\n",
            "        MaxPool2d-10           [-1, 32, 11, 11]               0\n",
            "           Conv2d-11           [-1, 10, 11, 11]             330\n",
            "      BatchNorm2d-12           [-1, 10, 11, 11]              20\n",
            "          Dropout-13           [-1, 10, 11, 11]               0\n",
            "           Conv2d-14             [-1, 16, 9, 9]           1,456\n",
            "      BatchNorm2d-15             [-1, 16, 9, 9]              32\n",
            "          Dropout-16             [-1, 16, 9, 9]               0\n",
            "           Conv2d-17             [-1, 32, 7, 7]           4,640\n",
            "      BatchNorm2d-18             [-1, 32, 7, 7]              64\n",
            "          Dropout-19             [-1, 32, 7, 7]               0\n",
            "           Conv2d-20             [-1, 10, 7, 7]             330\n",
            "      BatchNorm2d-21             [-1, 10, 7, 7]              20\n",
            "          Dropout-22             [-1, 10, 7, 7]               0\n",
            "           Conv2d-23             [-1, 10, 1, 1]           4,910\n",
            "================================================================\n",
            "Total params: 18,114\n",
            "Trainable params: 18,114\n",
            "Non-trainable params: 0\n",
            "----------------------------------------------------------------\n",
            "Input size (MB): 0.00\n",
            "Forward/backward pass size (MB): 0.85\n",
            "Params size (MB): 0.07\n",
            "Estimated Total Size (MB): 0.93\n",
            "----------------------------------------------------------------\n"
          ]
        }
      ]
    },
    {
      "cell_type": "code",
      "source": [
        "\n",
        "# Prepare for GPU-based training\n",
        "kwargs = {'num_workers': 1, 'pin_memory': True} if use_cuda else {}\n",
        "\n",
        "# Prepare the dataset and dataloaders\n",
        "# Training data\n",
        "train_loader = torch.utils.data.DataLoader(\n",
        "    datasets.MNIST('../data', train=True, download=True,\n",
        "                    transform=transforms.Compose([\n",
        "                        transforms.RandomApply([transforms.CenterCrop(22), ], p=0.1),\n",
        "                        transforms.Resize((28, 28)),\n",
        "                        transforms.RandomRotation((-15., 15.), fill=0),\n",
        "                        transforms.ToTensor(),\n",
        "                        transforms.Normalize((0.1307,), (0.3081,))\n",
        "                    ])),\n",
        "    batch_size=batch_size, shuffle=True, **kwargs)\n",
        "\n",
        "# Testing data\n",
        "test_loader = torch.utils.data.DataLoader(\n",
        "    datasets.MNIST('../data', train=False, transform=transforms.Compose([\n",
        "                        transforms.ToTensor(),\n",
        "                        transforms.Normalize((0.1307,), (0.3081,))\n",
        "                    ])),\n",
        "    batch_size=batch_size, shuffle=True, **kwargs)\n"
      ],
      "metadata": {
        "id": "ZeakfXtxTPbA"
      },
      "execution_count": 5,
      "outputs": []
    },
    {
      "cell_type": "code",
      "source": [
        "\n",
        "# Define the optimizer\n",
        "optimizer = optim.SGD(model.parameters(), lr=0.03, momentum=0.9)\n",
        "\n",
        "# Train and test the model\n",
        "for epoch in range(1, 21):\n",
        "    print(\"Epoch: \", epoch)\n",
        "    print(\"Training...\")\n",
        "    train(model, device, train_loader, optimizer, epoch)\n",
        "    test(model, device, test_loader)\n"
      ],
      "metadata": {
        "colab": {
          "base_uri": "https://localhost:8080/"
        },
        "id": "yLvpmN3yTQ_I",
        "outputId": "9c57decc-f37a-40e1-987f-f12c04d72ce3"
      },
      "execution_count": 6,
      "outputs": [
        {
          "output_type": "stream",
          "name": "stdout",
          "text": [
            "Epoch:  1\n",
            "Training...\n"
          ]
        },
        {
          "output_type": "stream",
          "name": "stderr",
          "text": [
            "loss=0.08775341510772705 batch_id=117: 100%|██████████| 118/118 [00:24<00:00,  4.73it/s]\n"
          ]
        },
        {
          "output_type": "stream",
          "name": "stdout",
          "text": [
            "\n",
            "Test set: Average loss: 0.0604, Accuracy: 9811/10000 (98.11%)\n",
            "\n",
            "Epoch:  2\n",
            "Training...\n"
          ]
        },
        {
          "output_type": "stream",
          "name": "stderr",
          "text": [
            "loss=0.053734809160232544 batch_id=117: 100%|██████████| 118/118 [00:25<00:00,  4.60it/s]\n"
          ]
        },
        {
          "output_type": "stream",
          "name": "stdout",
          "text": [
            "\n",
            "Test set: Average loss: 0.0522, Accuracy: 9824/10000 (98.24%)\n",
            "\n",
            "Epoch:  3\n",
            "Training...\n"
          ]
        },
        {
          "output_type": "stream",
          "name": "stderr",
          "text": [
            "loss=0.030903732404112816 batch_id=117: 100%|██████████| 118/118 [00:25<00:00,  4.58it/s]\n"
          ]
        },
        {
          "output_type": "stream",
          "name": "stdout",
          "text": [
            "\n",
            "Test set: Average loss: 0.0344, Accuracy: 9888/10000 (98.88%)\n",
            "\n",
            "Epoch:  4\n",
            "Training...\n"
          ]
        },
        {
          "output_type": "stream",
          "name": "stderr",
          "text": [
            "loss=0.010341411456465721 batch_id=117: 100%|██████████| 118/118 [00:25<00:00,  4.57it/s]\n"
          ]
        },
        {
          "output_type": "stream",
          "name": "stdout",
          "text": [
            "\n",
            "Test set: Average loss: 0.0367, Accuracy: 9874/10000 (98.74%)\n",
            "\n",
            "Epoch:  5\n",
            "Training...\n"
          ]
        },
        {
          "output_type": "stream",
          "name": "stderr",
          "text": [
            "loss=0.09877896308898926 batch_id=117: 100%|██████████| 118/118 [00:25<00:00,  4.61it/s]\n"
          ]
        },
        {
          "output_type": "stream",
          "name": "stdout",
          "text": [
            "\n",
            "Test set: Average loss: 0.0337, Accuracy: 9894/10000 (98.94%)\n",
            "\n",
            "Epoch:  6\n",
            "Training...\n"
          ]
        },
        {
          "output_type": "stream",
          "name": "stderr",
          "text": [
            "loss=0.04536044970154762 batch_id=117: 100%|██████████| 118/118 [00:26<00:00,  4.51it/s]\n"
          ]
        },
        {
          "output_type": "stream",
          "name": "stdout",
          "text": [
            "\n",
            "Test set: Average loss: 0.0315, Accuracy: 9895/10000 (98.95%)\n",
            "\n",
            "Epoch:  7\n",
            "Training...\n"
          ]
        },
        {
          "output_type": "stream",
          "name": "stderr",
          "text": [
            "loss=0.0622207410633564 batch_id=117: 100%|██████████| 118/118 [00:25<00:00,  4.62it/s]\n"
          ]
        },
        {
          "output_type": "stream",
          "name": "stdout",
          "text": [
            "\n",
            "Test set: Average loss: 0.0305, Accuracy: 9896/10000 (98.96%)\n",
            "\n",
            "Epoch:  8\n",
            "Training...\n"
          ]
        },
        {
          "output_type": "stream",
          "name": "stderr",
          "text": [
            "loss=0.03726242855191231 batch_id=117: 100%|██████████| 118/118 [00:25<00:00,  4.63it/s]\n"
          ]
        },
        {
          "output_type": "stream",
          "name": "stdout",
          "text": [
            "\n",
            "Test set: Average loss: 0.0299, Accuracy: 9896/10000 (98.96%)\n",
            "\n",
            "Epoch:  9\n",
            "Training...\n"
          ]
        },
        {
          "output_type": "stream",
          "name": "stderr",
          "text": [
            "loss=0.041767995804548264 batch_id=117: 100%|██████████| 118/118 [00:25<00:00,  4.58it/s]\n"
          ]
        },
        {
          "output_type": "stream",
          "name": "stdout",
          "text": [
            "\n",
            "Test set: Average loss: 0.0260, Accuracy: 9913/10000 (99.13%)\n",
            "\n",
            "Epoch:  10\n",
            "Training...\n"
          ]
        },
        {
          "output_type": "stream",
          "name": "stderr",
          "text": [
            "loss=0.10746035724878311 batch_id=117: 100%|██████████| 118/118 [00:26<00:00,  4.45it/s]\n"
          ]
        },
        {
          "output_type": "stream",
          "name": "stdout",
          "text": [
            "\n",
            "Test set: Average loss: 0.0276, Accuracy: 9910/10000 (99.10%)\n",
            "\n",
            "Epoch:  11\n",
            "Training...\n"
          ]
        },
        {
          "output_type": "stream",
          "name": "stderr",
          "text": [
            "loss=0.04704384505748749 batch_id=117: 100%|██████████| 118/118 [00:26<00:00,  4.41it/s]\n"
          ]
        },
        {
          "output_type": "stream",
          "name": "stdout",
          "text": [
            "\n",
            "Test set: Average loss: 0.0230, Accuracy: 9923/10000 (99.23%)\n",
            "\n",
            "Epoch:  12\n",
            "Training...\n"
          ]
        },
        {
          "output_type": "stream",
          "name": "stderr",
          "text": [
            "loss=0.041811857372522354 batch_id=117: 100%|██████████| 118/118 [00:25<00:00,  4.56it/s]\n"
          ]
        },
        {
          "output_type": "stream",
          "name": "stdout",
          "text": [
            "\n",
            "Test set: Average loss: 0.0269, Accuracy: 9902/10000 (99.02%)\n",
            "\n",
            "Epoch:  13\n",
            "Training...\n"
          ]
        },
        {
          "output_type": "stream",
          "name": "stderr",
          "text": [
            "loss=0.008324495516717434 batch_id=117: 100%|██████████| 118/118 [00:25<00:00,  4.55it/s]\n"
          ]
        },
        {
          "output_type": "stream",
          "name": "stdout",
          "text": [
            "\n",
            "Test set: Average loss: 0.0235, Accuracy: 9924/10000 (99.24%)\n",
            "\n",
            "Epoch:  14\n",
            "Training...\n"
          ]
        },
        {
          "output_type": "stream",
          "name": "stderr",
          "text": [
            "loss=0.008601176552474499 batch_id=117: 100%|██████████| 118/118 [00:25<00:00,  4.56it/s]\n"
          ]
        },
        {
          "output_type": "stream",
          "name": "stdout",
          "text": [
            "\n",
            "Test set: Average loss: 0.0242, Accuracy: 9920/10000 (99.20%)\n",
            "\n",
            "Epoch:  15\n",
            "Training...\n"
          ]
        },
        {
          "output_type": "stream",
          "name": "stderr",
          "text": [
            "loss=0.02099110372364521 batch_id=117: 100%|██████████| 118/118 [00:25<00:00,  4.59it/s]\n"
          ]
        },
        {
          "output_type": "stream",
          "name": "stdout",
          "text": [
            "\n",
            "Test set: Average loss: 0.0221, Accuracy: 9926/10000 (99.26%)\n",
            "\n",
            "Epoch:  16\n",
            "Training...\n"
          ]
        },
        {
          "output_type": "stream",
          "name": "stderr",
          "text": [
            "loss=0.027121709659695625 batch_id=117: 100%|██████████| 118/118 [00:26<00:00,  4.51it/s]\n"
          ]
        },
        {
          "output_type": "stream",
          "name": "stdout",
          "text": [
            "\n",
            "Test set: Average loss: 0.0212, Accuracy: 9934/10000 (99.34%)\n",
            "\n",
            "Epoch:  17\n",
            "Training...\n"
          ]
        },
        {
          "output_type": "stream",
          "name": "stderr",
          "text": [
            "loss=0.020451197400689125 batch_id=117: 100%|██████████| 118/118 [00:25<00:00,  4.54it/s]\n"
          ]
        },
        {
          "output_type": "stream",
          "name": "stdout",
          "text": [
            "\n",
            "Test set: Average loss: 0.0207, Accuracy: 9938/10000 (99.38%)\n",
            "\n",
            "Epoch:  18\n",
            "Training...\n"
          ]
        },
        {
          "output_type": "stream",
          "name": "stderr",
          "text": [
            "loss=0.01049025822430849 batch_id=117: 100%|██████████| 118/118 [00:25<00:00,  4.57it/s]\n"
          ]
        },
        {
          "output_type": "stream",
          "name": "stdout",
          "text": [
            "\n",
            "Test set: Average loss: 0.0202, Accuracy: 9931/10000 (99.31%)\n",
            "\n",
            "Epoch:  19\n",
            "Training...\n"
          ]
        },
        {
          "output_type": "stream",
          "name": "stderr",
          "text": [
            "loss=0.06213083490729332 batch_id=117: 100%|██████████| 118/118 [00:26<00:00,  4.50it/s]\n"
          ]
        },
        {
          "output_type": "stream",
          "name": "stdout",
          "text": [
            "\n",
            "Test set: Average loss: 0.0187, Accuracy: 9940/10000 (99.40%)\n",
            "\n",
            "Epoch:  20\n",
            "Training...\n"
          ]
        },
        {
          "output_type": "stream",
          "name": "stderr",
          "text": [
            "loss=0.012416922487318516 batch_id=117: 100%|██████████| 118/118 [00:26<00:00,  4.53it/s]\n"
          ]
        },
        {
          "output_type": "stream",
          "name": "stdout",
          "text": [
            "\n",
            "Test set: Average loss: 0.0199, Accuracy: 9932/10000 (99.32%)\n",
            "\n"
          ]
        }
      ]
    }
  ]
}